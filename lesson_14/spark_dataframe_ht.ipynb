{
 "cells": [
  {
   "cell_type": "code",
   "execution_count": 15,
   "metadata": {
    "collapsed": true
   },
   "outputs": [],
   "source": [
    "from pyspark.sql import SparkSession, functions as f, types as t"
   ]
  },
  {
   "cell_type": "code",
   "execution_count": 16,
   "outputs": [],
   "source": [
    "spark = SparkSession.builder.master('local[3]').getOrCreate()"
   ],
   "metadata": {
    "collapsed": false
   }
  },
  {
   "cell_type": "code",
   "execution_count": 17,
   "outputs": [
    {
     "name": "stdout",
     "output_type": "stream",
     "text": [
      "3.3.0\n"
     ]
    }
   ],
   "source": [
    "print(spark.version)"
   ],
   "metadata": {
    "collapsed": false
   }
  },
  {
   "cell_type": "code",
   "execution_count": 18,
   "outputs": [],
   "source": [
    "actor_df = spark.read.csv('./data/actor.csv', header=True, inferSchema=True)\n",
    "address_df = spark.read.csv('./data/address.csv', header=True, inferSchema=True)\n",
    "category_df = spark.read.csv('./data/category.csv', header=True, inferSchema=True)\n",
    "city_df = spark.read.csv('./data/city.csv', header=True, inferSchema=True)\n",
    "country_df = spark.read.csv('./data/country.csv', header=True, inferSchema=True)\n",
    "customer_df = spark.read.csv('./data/customer.csv', header=True, inferSchema=True)\n",
    "film_df = spark.read.csv('./data/film.csv', header=True, inferSchema=True)\n",
    "film_actor_df = spark.read.csv('./data/film_actor.csv', header=True, inferSchema=True)\n",
    "film_category_df = spark.read.csv('./data/film_category.csv', header=True, inferSchema=True)\n",
    "inventory_df = spark.read.csv('./data/inventory.csv', header=True, inferSchema=True)\n",
    "language_df = spark.read.csv('./data/language.csv', header=True, inferSchema=True)\n",
    "payment_df = spark.read.csv('./data/payment.csv', header=True, inferSchema=True)\n",
    "rental_df = spark.read.csv('./data/rental.csv', header=True, inferSchema=True)\n",
    "staff_df = spark.read.csv('./data/staff.csv', header=True, inferSchema=True)\n",
    "store_df = spark.read.csv('./data/store.csv', header=True, inferSchema=True)"
   ],
   "metadata": {
    "collapsed": false
   }
  },
  {
   "cell_type": "markdown",
   "source": [
    "# Домашнє завдання на тему Spark SQL\n",
    "\n",
    "Задачі з домашнього завдання на SQL потрібно розвʼязати за допомогою Spark SQL DataFrame API.\n",
    "\n",
    "- Дампи таблиць знаходяться в папці `data`. Датафрейми таблиць вже створені в клітинці вище.\n",
    "- Можете створювати стільки нових клітинок, скільки вам необхідно.\n",
    "- Розвʼязок кожної задачі має бути відображений в самому файлі (використати метод `.show()`)\n",
    "- код має бути оформлений у відповідності із одним із стилем, показаним лектором на занятті 13.\n",
    "\n",
    "**Увага!**\n",
    "Використовувати мову запитів SQL безпосередньо забороняється, потрібно використовувати виключно DataFrame API!\n"
   ],
   "metadata": {
    "collapsed": false
   }
  },
  {
   "cell_type": "markdown",
   "source": [
    "1.\n",
    "Вивести кількість фільмів в кожній категорії.\n",
    "Результат відсортувати за спаданням."
   ],
   "metadata": {
    "collapsed": false
   }
  },
  {
   "cell_type": "code",
   "execution_count": 103,
   "outputs": [],
   "source": [
    "films_count_by_category_df = category_df\\\n",
    "    .join(film_category_df,\n",
    "        category_df.category_id == film_category_df.category_id, 'left'\n",
    "    ).select(\n",
    "        category_df.category_id,\n",
    "        category_df.name.alias(\"category_name\"),\n",
    "    ).groupBy(\n",
    "        category_df.category_id,\n",
    "        f.col(\"category_name\"),\n",
    "    ).count(\n",
    "    ).sort(\n",
    "        f.col(\"count\").desc(),\n",
    "    ).persist()"
   ],
   "metadata": {
    "collapsed": false
   }
  },
  {
   "cell_type": "code",
   "execution_count": 105,
   "outputs": [
    {
     "name": "stdout",
     "output_type": "stream",
     "text": [
      "+-----------+-------------+-----+\n",
      "|category_id|category_name|count|\n",
      "+-----------+-------------+-----+\n",
      "|15         |Sports       |74   |\n",
      "|9          |Foreign      |73   |\n",
      "|8          |Family       |69   |\n",
      "|6          |Documentary  |68   |\n",
      "|2          |Animation    |66   |\n",
      "|1          |Action       |64   |\n",
      "|13         |New          |63   |\n",
      "|7          |Drama        |62   |\n",
      "|14         |Sci-Fi       |61   |\n",
      "|10         |Games        |61   |\n",
      "|3          |Children     |60   |\n",
      "|5          |Comedy       |58   |\n",
      "|4          |Classics     |57   |\n",
      "|16         |Travel       |57   |\n",
      "|11         |Horror       |56   |\n",
      "|12         |Music        |51   |\n",
      "+-----------+-------------+-----+\n",
      "\n"
     ]
    }
   ],
   "source": [
    "films_count_by_category_df.show(films_count_by_category_df.count(), False)"
   ],
   "metadata": {
    "collapsed": false
   }
  },
  {
   "cell_type": "markdown",
   "source": [
    "2.\n",
    "Вивести 10 акторів, чиї фільми брали на прокат найбільше.\n",
    "Результат відсортувати за спаданням."
   ],
   "metadata": {
    "collapsed": false
   }
  },
  {
   "cell_type": "code",
   "execution_count": 67,
   "outputs": [],
   "source": [
    "top10_popular_actors_df = film_actor_df\\\n",
    "    .join(actor_df, film_actor_df.actor_id == actor_df.actor_id, 'inner')\\\n",
    "    .select(\n",
    "        actor_df.actor_id,\n",
    "        actor_df.first_name,\n",
    "        actor_df.last_name\n",
    "    ).groupBy(\n",
    "        actor_df.actor_id,\n",
    "        actor_df.first_name,\n",
    "        actor_df.last_name\n",
    "    ).agg(\n",
    "        f.count(actor_df.actor_id).alias(\"total_film_count\")\n",
    "    ).sort(\n",
    "        f.col(\"total_film_count\").desc(),\n",
    "    ).limit(10)"
   ],
   "metadata": {
    "collapsed": false
   }
  },
  {
   "cell_type": "code",
   "execution_count": 68,
   "outputs": [
    {
     "name": "stdout",
     "output_type": "stream",
     "text": [
      "+--------+----------+-----------+----------------+\n",
      "|actor_id|first_name|  last_name|total_film_count|\n",
      "+--------+----------+-----------+----------------+\n",
      "|     107|      GINA|  DEGENERES|              42|\n",
      "|     102|    WALTER|       TORN|              41|\n",
      "|     198|      MARY|     KEITEL|              40|\n",
      "|     181|   MATTHEW|     CARREY|              39|\n",
      "|      23|    SANDRA|     KILMER|              37|\n",
      "|      81|  SCARLETT|      DAMON|              36|\n",
      "|     144|    ANGELA|WITHERSPOON|              35|\n",
      "|      60|     HENRY|      BERRY|              35|\n",
      "|      13|       UMA|       WOOD|              35|\n",
      "|      37|       VAL|     BOLGER|              35|\n",
      "+--------+----------+-----------+----------------+\n",
      "\n"
     ]
    }
   ],
   "source": [
    "top10_popular_actors_df.show()"
   ],
   "metadata": {
    "collapsed": false
   }
  },
  {
   "cell_type": "markdown",
   "source": [
    "3.\n",
    "Вивести категорія фільмів, на яку було витрачено найбільше грошей\n",
    "в прокаті"
   ],
   "metadata": {
    "collapsed": false
   }
  },
  {
   "cell_type": "code",
   "execution_count": 160,
   "outputs": [],
   "source": [
    "# I want fetch category_name. But when I add this to groupBy clause then explain shows\n",
    "#   that category_name will be used to calculate hash. So I try to avoid this by second category_df join\n",
    "most_expensive_film_category_df = category_df\\\n",
    "    .join(film_category_df, category_df.category_id == film_category_df.category_id, 'inner')\\\n",
    "    .join(film_df, film_category_df.film_id == film_df.film_id, 'inner')\\\n",
    "    .groupBy(\n",
    "        category_df.category_id,\n",
    "    ).agg(\n",
    "        f.sum(film_df.replacement_cost).alias(\"sum_production_cost\")\n",
    "    ).sort(\n",
    "        f.col(\"sum_production_cost\").desc(),\n",
    "    ).limit(1)\\\n",
    "    .join(\n",
    "        category_df.alias(\"category_lookup\"),\n",
    "        category_df.category_id == f.col(\"category_lookup.category_id\"),\n",
    "        'inner'\n",
    "    ).select(\n",
    "        f.col(\"category_lookup.category_id\"),\n",
    "        f.col(\"category_lookup.name\").alias('category_name'),\n",
    "        f.col(\"sum_production_cost\")\n",
    "    )"
   ],
   "metadata": {
    "collapsed": false
   }
  },
  {
   "cell_type": "code",
   "execution_count": 162,
   "outputs": [
    {
     "data": {
      "text/plain": "Row(category_id=15, category_name='Sports', sum_production_cost=1509.2600000000004)"
     },
     "execution_count": 162,
     "metadata": {},
     "output_type": "execute_result"
    }
   ],
   "source": [
    "most_expensive_film_category_df.first()"
   ],
   "metadata": {
    "collapsed": false
   }
  },
  {
   "cell_type": "markdown",
   "source": [
    "4.\n",
    "Вивести назви фільмів, яких не має в inventory."
   ],
   "metadata": {
    "collapsed": false
   }
  },
  {
   "cell_type": "code",
   "execution_count": 101,
   "outputs": [],
   "source": [
    "no_inventory_films_df = film_df\\\n",
    "    .join(inventory_df, inventory_df.film_id == film_df.film_id, 'left_anti')\\\n",
    "    .select(film_df.title)\\\n",
    "    .persist()"
   ],
   "metadata": {
    "collapsed": false
   }
  },
  {
   "cell_type": "code",
   "execution_count": 102,
   "outputs": [
    {
     "name": "stdout",
     "output_type": "stream",
     "text": [
      "+----------------------+\n",
      "|title                 |\n",
      "+----------------------+\n",
      "|ALICE FANTASIA        |\n",
      "|APOLLO TEEN           |\n",
      "|ARGONAUTS TOWN        |\n",
      "|ARK RIDGEMONT         |\n",
      "|ARSENIC INDEPENDENCE  |\n",
      "|BOONDOCK BALLROOM     |\n",
      "|BUTCH PANTHER         |\n",
      "|CATCH AMISTAD         |\n",
      "|CHINATOWN GLADIATOR   |\n",
      "|CHOCOLATE DUCK        |\n",
      "|COMMANDMENTS EXPRESS  |\n",
      "|CROSSING DIVORCE      |\n",
      "|CROWDS TELEMARK       |\n",
      "|CRYSTAL BREAKING      |\n",
      "|DAZED PUNK            |\n",
      "|DELIVERANCE MULHOLLAND|\n",
      "|FIREHOUSE VIETNAM     |\n",
      "|FLOATS GARDEN         |\n",
      "|FRANKENSTEIN STRANGER |\n",
      "|GLADIATOR WESTWARD    |\n",
      "|GUMP DATE             |\n",
      "|HATE HANDICAP         |\n",
      "|HOCUS FRIDA           |\n",
      "|KENTUCKIAN GIANT      |\n",
      "|KILL BROTHERHOOD      |\n",
      "|MUPPET MILE           |\n",
      "|ORDER BETRAYED        |\n",
      "|PEARL DESTINY         |\n",
      "|PERDITION FARGO       |\n",
      "|PSYCHO SHRUNK         |\n",
      "|RAIDERS ANTITRUST     |\n",
      "|RAINBOW SHOCK         |\n",
      "|ROOF CHAMPION         |\n",
      "|SISTER FREDDY         |\n",
      "|SKY MIRACLE           |\n",
      "|SUICIDES SILENCE      |\n",
      "|TADPOLE PARK          |\n",
      "|TREASURE COMMAND      |\n",
      "|VILLAIN DESPERATE     |\n",
      "|VOLUME HOUSE          |\n",
      "|WAKE JAWS             |\n",
      "|WALLS ARTIST          |\n",
      "+----------------------+\n",
      "\n"
     ]
    }
   ],
   "source": [
    "no_inventory_films_df.show(no_inventory_films_df.count(), False)"
   ],
   "metadata": {
    "collapsed": false
   }
  },
  {
   "cell_type": "markdown",
   "source": [
    "5.\n",
    "Вивести топ 3 актори, які найбільше зʼявлялись в категорії фільмів “Children”"
   ],
   "metadata": {
    "collapsed": false
   }
  },
  {
   "cell_type": "code",
   "execution_count": 167,
   "outputs": [],
   "source": [
    "top3_actors_in_children_films = category_df\\\n",
    "    .select(category_df.category_id)\\\n",
    "    .filter(category_df.name == 'Children')\\\n",
    "    .join(film_category_df, category_df.category_id == film_category_df.category_id, 'inner')\\\n",
    "    .join(film_actor_df, film_category_df.film_id == film_actor_df.film_id, 'inner')\\\n",
    "    .join(actor_df, film_actor_df.actor_id == actor_df.actor_id, 'inner')\\\n",
    "    .groupBy(\n",
    "        actor_df.actor_id,\n",
    "    ).agg(\n",
    "        f.count(film_actor_df.actor_id).alias(\"total_films_count\"),\n",
    "    ).sort(\n",
    "        f.col(\"total_films_count\").desc(),\n",
    "    ).limit(3)\\\n",
    "    .join(\n",
    "        actor_df.alias(\"actor_lookup\"),\n",
    "        actor_df.actor_id == f.col(\"actor_lookup.actor_id\"),\n",
    "        'inner'\n",
    "    ).select(\n",
    "        f.col(\"actor_lookup.actor_id\"),\n",
    "        f.col(\"actor_lookup.first_name\"),\n",
    "        f.col(\"actor_lookup.last_name\"),\n",
    "        f.col(\"total_films_count\")\n",
    "    )"
   ],
   "metadata": {
    "collapsed": false
   }
  },
  {
   "cell_type": "code",
   "execution_count": 168,
   "outputs": [
    {
     "name": "stdout",
     "output_type": "stream",
     "text": [
      "+--------+----------+---------+-----------------+\n",
      "|actor_id|first_name|last_name|total_films_count|\n",
      "+--------+----------+---------+-----------------+\n",
      "|      17|     HELEN|   VOIGHT|                7|\n",
      "|      80|     RALPH|     CRUZ|                5|\n",
      "|     140|    WHOOPI|     HURT|                5|\n",
      "+--------+----------+---------+-----------------+\n",
      "\n"
     ]
    }
   ],
   "source": [
    "top3_actors_in_children_films.show()"
   ],
   "metadata": {
    "collapsed": false
   }
  },
  {
   "cell_type": "markdown",
   "source": [
    "Stop Spark session:"
   ],
   "metadata": {
    "collapsed": false
   }
  },
  {
   "cell_type": "code",
   "execution_count": 169,
   "outputs": [],
   "source": [
    "spark.stop()"
   ],
   "metadata": {
    "collapsed": false
   }
  },
  {
   "cell_type": "code",
   "execution_count": null,
   "outputs": [],
   "source": [],
   "metadata": {
    "collapsed": false
   }
  }
 ],
 "metadata": {
  "kernelspec": {
   "display_name": "Python 3",
   "language": "python",
   "name": "python3"
  },
  "language_info": {
   "codemirror_mode": {
    "name": "ipython",
    "version": 2
   },
   "file_extension": ".py",
   "mimetype": "text/x-python",
   "name": "python",
   "nbconvert_exporter": "python",
   "pygments_lexer": "ipython2",
   "version": "2.7.6"
  }
 },
 "nbformat": 4,
 "nbformat_minor": 0
}
